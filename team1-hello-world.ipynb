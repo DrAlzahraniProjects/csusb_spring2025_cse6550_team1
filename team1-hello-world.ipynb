{
 "cells": [
  {
   "cell_type": "code",
   "execution_count": null,
   "id": "f94db6c3",
   "metadata": {},
   "outputs": [],
   "source": [
    "import flask\n",
    "from flask import Flask\n",
    "from IPython.display import display, HTML\n",
    "\n",
    "# Print Hello World in Jupyter Notebook\n",
    "display(HTML(\"<h1>Hello, World!</h1>\"))\n",
    "\n",
    "# Create a Flask app\n",
    "app = Flask(__name__)\n",
    "\n",
    "@app.route('/')\n",
    "def hello():\n",
    "    return \"Hello, World!\"\n",
    "\n",
    "# Run the Flask app (only works if running interactively)\n",
    "if __name__ == '__main__':\n",
    "    app.run(host='0.0.0.0', port=2500)"
   ]
  }
 ],
 "metadata": {
  "language_info": {
   "name": "python"
  }
 },
 "nbformat": 4,
 "nbformat_minor": 2
}
