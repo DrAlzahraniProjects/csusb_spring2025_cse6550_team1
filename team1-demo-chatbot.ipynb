{
 "cells": [
  {
   "cell_type": "markdown",
   "metadata": {},
   "source": [
    "# CSUSB Podcast Chat Bot\n",
    "## Required Libraries"
   ]
  },
  {
   "cell_type": "code",
   "execution_count": null,
   "metadata": {
    "vscode": {
     "languageId": "plaintext"
    }
   },
   "outputs": [],
   "source": [
    "import os\n",
    "import numpy as np\n",
    "import pandas as pd\n",
    "from langchain.chat_models import init_chat_model\n",
    "from langchain.schema import SystemMessage, HumanMessage, AIMessage"
   ]
  },
  {
   "cell_type": "markdown",
   "metadata": {},
   "source": [
    "## Step 1: Initialize API Key"
   ]
  },
  {
   "cell_type": "code",
   "execution_count": null,
   "metadata": {
    "vscode": {
     "languageId": "plaintext"
    }
   },
   "outputs": [],
   "source": [
    "# Ensure the API key for Groq is set as an environment variable.\n",
    "apik = os.getenv(\"GROQ_API_KEY\")\n",
    "if not apik:\n",
    "    print(\"Error: Please set your GROQ_API_Key variable.\")\n",
    "    exit()"
   ]
  },
  {
   "cell_type": "markdown",
   "metadata": {},
   "source": [
    "## Step 2: Initialize Chat Model"
   ]
  },
  {
   "cell_type": "code",
   "execution_count": null,
   "metadata": {
    "vscode": {
     "languageId": "plaintext"
    }
   },
   "outputs": [],
   "source": [
    "# Set up the Llama 3.1 model using the Groq provider.\n",
    "chat = init_chat_model(\"llama-3.1-8b-instant\", model_provider=\"groq\")\n",
    "messages = [SystemMessage(content=\"You are an AI assistant that will help.\")]"
   ]
  },
  {
   "cell_type": "markdown",
   "metadata": {},
   "source": [
    "## Step 3: Display Chatbot Header"
   ]
  },
  {
   "cell_type": "code",
   "execution_count": null,
   "metadata": {
    "vscode": {
     "languageId": "plaintext"
    }
   },
   "outputs": [],
   "source": [
    "print(\"\\n===== CSUSB Podcast Chatbot =====\\n\")"
   ]
  },
  {
   "cell_type": "markdown",
   "metadata": {},
   "source": [
    "## Step 4: Initialize Sidebar for Performance Metrics"
   ]
  },
  {
   "cell_type": "code",
   "execution_count": null,
   "metadata": {
    "vscode": {
     "languageId": "plaintext"
    }
   },
   "outputs": [],
   "source": [
    "conf_matrix = np.array([[0, 0], [0, 0]])  # Start with zeros"
   ]
  },
  {
   "cell_type": "markdown",
   "metadata": {},
   "source": [
    "## Step 5: Chatbot User Input"
   ]
  },
  {
   "cell_type": "code",
   "execution_count": null,
   "metadata": {
    "vscode": {
     "languageId": "plaintext"
    }
   },
   "outputs": [],
   "source": [
    "while True:\n",
    "    user_input = input(\"Ask the Chatbot a Question (or type 'exit' to quit): \")\n",
    "    if user_input.lower() == 'exit':\n",
    "        break\n",
    "    \n",
    "    if user_input:\n",
    "        messages.append(HumanMessage(content=user_input))\n",
    "        response = chat.invoke(messages)\n",
    "        ai_message = AIMessage(content=response.content)\n",
    "        messages.append(ai_message)\n",
    "\n",
    "        # Display user input and chatbot response\n",
    "        print(f\"\\nUser: {user_input}\")\n",
    "        print(f\"Chatbot: {response.content}\\n\")\n",
    "    else:\n",
    "        print(\"Please enter a question before submitting.\")"
   ]
  },
  {
   "cell_type": "markdown",
   "metadata": {},
   "source": [
    "## Step 6: User Feedback - Update Confusion Matrix"
   ]
  },
  {
   "cell_type": "code",
   "execution_count": null,
   "metadata": {
    "vscode": {
     "languageId": "plaintext"
    }
   },
   "outputs": [],
   "source": [
    "    feedback = input(\"Was the response correct? (yes/no): \")\n",
    "    if feedback.lower() == 'yes':\n",
    "        conf_matrix[0, 0] += 1  # True Positive (TP)\n",
    "    elif feedback.lower() == 'no':\n",
    "        conf_matrix[1, 0] += 1  # False Negative (FN)\n"
   ]
  },
  {
   "cell_type": "markdown",
   "metadata": {},
   "source": [
    "## Step 7: Display Confusion Matrix"
   ]
  },
  {
   "cell_type": "code",
   "execution_count": null,
   "metadata": {
    "vscode": {
     "languageId": "plaintext"
    }
   },
   "outputs": [],
   "source": [
    "    print(\"\\nConfusion Matrix:\")\n",
    "    print(pd.DataFrame(\n",
    "        conf_matrix,\n",
    "        index=[\"Actual +\", \"Actual -\"],\n",
    "        columns=[\"Predicted +\", \"Predicted -\"]\n",
    "    ))"
   ]
  },
  {
   "cell_type": "markdown",
   "metadata": {},
   "source": [
    "## Step 8: Calculate Performance Metrics"
   ]
  },
  {
   "cell_type": "code",
   "execution_count": null,
   "metadata": {
    "vscode": {
     "languageId": "plaintext"
    }
   },
   "outputs": [],
   "source": [
    "    TP = conf_matrix[0, 0]\n",
    "    FN = conf_matrix[0, 1]\n",
    "    FP = conf_matrix[1, 0]\n",
    "    TN = conf_matrix[1, 1]\n",
    "\n",
    "    sensitivity = TP / (TP + FN) if (TP + FN) > 0 else 0\n",
    "    specificity = TN / (TN + FP) if (TN + FP) > 0 else 0\n",
    "    accuracy = (TP + TN) / np.sum(conf_matrix) if np.sum(conf_matrix) > 0 else 0\n",
    "    precision = TP / (TP + FP) if (TP + FP) > 0 else 0\n",
    "    f1_score = 2 * (precision * sensitivity) / (precision + sensitivity) if (precision + sensitivity) > 0 else 0\n",
    "\n",
    "    print(\"\\nPerformance Metrics:\")\n",
    "    print(f\"Sensitivity: {sensitivity:.2f}\")\n",
    "    print(f\"Specificity: {specificity:.2f}\")\n",
    "    print(f\"Accuracy: {accuracy:.2f}\")\n",
    "    print(f\"Precision: {precision:.2f}\")\n",
    "    print(f\"F1 Score: {f1_score:.2f}\\n\")"
   ]
  },
  {
   "cell_type": "markdown",
   "metadata": {},
   "source": [
    "## Step 9: Reset Confusion Matrix"
   ]
  },
  {
   "cell_type": "code",
   "execution_count": null,
   "metadata": {
    "vscode": {
     "languageId": "plaintext"
    }
   },
   "outputs": [],
   "source": [
    "    reset = input(\"Do you want to reset the confusion matrix? (yes/no): \")\n",
    "    if reset.lower() == 'yes':\n",
    "        conf_matrix = np.array([[0, 0], [0, 0]])  # Reset to zeros\n",
    "        print(\"Confusion Matrix reset.\\n\")"
   ]
  }
 ],
 "metadata": {
  "language_info": {
   "name": "python"
  }
 },
 "nbformat": 4,
 "nbformat_minor": 2
}
