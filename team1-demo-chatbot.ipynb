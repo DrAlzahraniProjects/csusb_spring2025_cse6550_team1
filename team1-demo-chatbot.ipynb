{
 "cells": [
  {
   "cell_type": "markdown",
   "metadata": {},
   "source": [
    "Here we run the streamlit program"
   ]
  },
  {
   "cell_type": "code",
   "execution_count": null,
   "metadata": {
    "vscode": {
     "languageId": "plaintext"
    }
   },
   "outputs": [],
   "source": [
    "import os\n",
    "from langchain.chat_models import init_chat_model\n",
    "from langchain.schema import SystemMessage, HumanMessage, AIMessage\n",
    "from IPython.display import display, HTML\n",
    "\n",
    "# Fetch API key (from environment variable or manually)\n",
    "apik = os.getenv(\"GROQ_API_KEY\")\n",
    "if not apik:\n",
    "    raise ValueError(\"Error: Please set your GROQ_API_KEY environment variable.\")\n",
    "\n",
    "# Initialize the chat model with the provided API key\n",
    "chat = init_chat_model(\"llama-3.1-8b-instant\", model_provider=\"groq\")\n",
    "\n",
    "# Initialize conversation messages\n",
    "messages = [SystemMessage(content=\"You are an AI assistant that will help.\")]\n",
    "\n",
    "# Function to display the chatbot UI in the notebook\n",
    "def display_chatbot_ui():\n",
    "    display(HTML('<h1 style=\"color:blue;\">CSUSB Chatbot Assistant</h1>'))\n",
    "    display(HTML('<h3>Spring 2025 Team 1</h3>'))\n",
    "    \n",
    "    user_input = input(\"Enter your Message: \")  # Get input from user\n",
    "\n",
    "    if user_input:\n",
    "        # Add user's input to the conversation\n",
    "        messages.append(HumanMessage(content=user_input))\n",
    "        \n",
    "        # Get the response from the chatbot\n",
    "        response = chat.invoke(messages)\n",
    "        ai_message = AIMessage(content=response.content)\n",
    "        \n",
    "        # Add AI's response to the conversation\n",
    "        messages.append(ai_message)\n",
    "        \n",
    "        # Display the response\n",
    "        display(HTML(f'<p><b>CSUSB Chatbot response:</b> {response.content}</p>'))\n",
    "    else:\n",
    "        display(HTML('<p style=\"color:red;\">Please enter a message before you submit.</p>'))\n",
    "\n",
    "# Display the UI and interact with the chatbot\n",
    "display_chatbot_ui()"
   ]
  }
 ],
 "metadata": {
  "language_info": {
   "name": "python"
  }
 },
 "nbformat": 4,
 "nbformat_minor": 2
}
